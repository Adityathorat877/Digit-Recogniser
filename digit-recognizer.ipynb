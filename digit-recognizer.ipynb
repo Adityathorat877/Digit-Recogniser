{
 "cells": [
  {
   "cell_type": "code",
   "execution_count": 1,
   "id": "c0110295",
   "metadata": {
    "_cell_guid": "b1076dfc-b9ad-4769-8c92-a6c4dae69d19",
    "_uuid": "8f2839f25d086af736a60e9eeb907d3b93b6e0e5",
    "execution": {
     "iopub.execute_input": "2024-02-13T20:16:02.674805Z",
     "iopub.status.busy": "2024-02-13T20:16:02.674051Z",
     "iopub.status.idle": "2024-02-13T20:16:18.281826Z",
     "shell.execute_reply": "2024-02-13T20:16:18.280693Z"
    },
    "papermill": {
     "duration": 15.622475,
     "end_time": "2024-02-13T20:16:18.284011",
     "exception": false,
     "start_time": "2024-02-13T20:16:02.661536",
     "status": "completed"
    },
    "tags": []
   },
   "outputs": [
    {
     "name": "stderr",
     "output_type": "stream",
     "text": [
      "2024-02-13 20:16:05.409548: E external/local_xla/xla/stream_executor/cuda/cuda_dnn.cc:9261] Unable to register cuDNN factory: Attempting to register factory for plugin cuDNN when one has already been registered\n",
      "2024-02-13 20:16:05.409671: E external/local_xla/xla/stream_executor/cuda/cuda_fft.cc:607] Unable to register cuFFT factory: Attempting to register factory for plugin cuFFT when one has already been registered\n",
      "2024-02-13 20:16:05.552918: E external/local_xla/xla/stream_executor/cuda/cuda_blas.cc:1515] Unable to register cuBLAS factory: Attempting to register factory for plugin cuBLAS when one has already been registered\n"
     ]
    },
    {
     "name": "stdout",
     "output_type": "stream",
     "text": [
      "/kaggle/input/digit-recognizer/sample_submission.csv\n",
      "/kaggle/input/digit-recognizer/train.csv\n",
      "/kaggle/input/digit-recognizer/test.csv\n"
     ]
    }
   ],
   "source": [
    "\n",
    "import numpy as np # linear algebra\n",
    "import pandas as pd # data processing, CSV file I/O (e.g. pd.read_csv)\n",
    "import tensorflow as tf\n",
    "from tensorflow import keras\n",
    "from sklearn.model_selection import train_test_split\n",
    "from tensorflow.keras import layers, Sequential\n",
    "import matplotlib.pyplot as plt"
   ]
  },
  {
   "cell_type": "code",
   "execution_count": 2,
   "id": "9cc43d47",
   "metadata": {
    "execution": {
     "iopub.execute_input": "2024-02-13T20:16:18.304720Z",
     "iopub.status.busy": "2024-02-13T20:16:18.304143Z",
     "iopub.status.idle": "2024-02-13T20:16:22.015052Z",
     "shell.execute_reply": "2024-02-13T20:16:22.013795Z"
    },
    "papermill": {
     "duration": 3.723703,
     "end_time": "2024-02-13T20:16:22.017602",
     "exception": false,
     "start_time": "2024-02-13T20:16:18.293899",
     "status": "completed"
    },
    "tags": []
   },
   "outputs": [
    {
     "name": "stdout",
     "output_type": "stream",
     "text": [
      "(42000, 785)\n"
     ]
    },
    {
     "data": {
      "text/html": [
       "<div>\n",
       "<style scoped>\n",
       "    .dataframe tbody tr th:only-of-type {\n",
       "        vertical-align: middle;\n",
       "    }\n",
       "\n",
       "    .dataframe tbody tr th {\n",
       "        vertical-align: top;\n",
       "    }\n",
       "\n",
       "    .dataframe thead th {\n",
       "        text-align: right;\n",
       "    }\n",
       "</style>\n",
       "<table border=\"1\" class=\"dataframe\">\n",
       "  <thead>\n",
       "    <tr style=\"text-align: right;\">\n",
       "      <th></th>\n",
       "      <th>label</th>\n",
       "      <th>pixel0</th>\n",
       "      <th>pixel1</th>\n",
       "      <th>pixel2</th>\n",
       "      <th>pixel3</th>\n",
       "      <th>pixel4</th>\n",
       "      <th>pixel5</th>\n",
       "      <th>pixel6</th>\n",
       "      <th>pixel7</th>\n",
       "      <th>pixel8</th>\n",
       "      <th>...</th>\n",
       "      <th>pixel774</th>\n",
       "      <th>pixel775</th>\n",
       "      <th>pixel776</th>\n",
       "      <th>pixel777</th>\n",
       "      <th>pixel778</th>\n",
       "      <th>pixel779</th>\n",
       "      <th>pixel780</th>\n",
       "      <th>pixel781</th>\n",
       "      <th>pixel782</th>\n",
       "      <th>pixel783</th>\n",
       "    </tr>\n",
       "  </thead>\n",
       "  <tbody>\n",
       "    <tr>\n",
       "      <th>0</th>\n",
       "      <td>1</td>\n",
       "      <td>0</td>\n",
       "      <td>0</td>\n",
       "      <td>0</td>\n",
       "      <td>0</td>\n",
       "      <td>0</td>\n",
       "      <td>0</td>\n",
       "      <td>0</td>\n",
       "      <td>0</td>\n",
       "      <td>0</td>\n",
       "      <td>...</td>\n",
       "      <td>0</td>\n",
       "      <td>0</td>\n",
       "      <td>0</td>\n",
       "      <td>0</td>\n",
       "      <td>0</td>\n",
       "      <td>0</td>\n",
       "      <td>0</td>\n",
       "      <td>0</td>\n",
       "      <td>0</td>\n",
       "      <td>0</td>\n",
       "    </tr>\n",
       "    <tr>\n",
       "      <th>1</th>\n",
       "      <td>0</td>\n",
       "      <td>0</td>\n",
       "      <td>0</td>\n",
       "      <td>0</td>\n",
       "      <td>0</td>\n",
       "      <td>0</td>\n",
       "      <td>0</td>\n",
       "      <td>0</td>\n",
       "      <td>0</td>\n",
       "      <td>0</td>\n",
       "      <td>...</td>\n",
       "      <td>0</td>\n",
       "      <td>0</td>\n",
       "      <td>0</td>\n",
       "      <td>0</td>\n",
       "      <td>0</td>\n",
       "      <td>0</td>\n",
       "      <td>0</td>\n",
       "      <td>0</td>\n",
       "      <td>0</td>\n",
       "      <td>0</td>\n",
       "    </tr>\n",
       "    <tr>\n",
       "      <th>2</th>\n",
       "      <td>1</td>\n",
       "      <td>0</td>\n",
       "      <td>0</td>\n",
       "      <td>0</td>\n",
       "      <td>0</td>\n",
       "      <td>0</td>\n",
       "      <td>0</td>\n",
       "      <td>0</td>\n",
       "      <td>0</td>\n",
       "      <td>0</td>\n",
       "      <td>...</td>\n",
       "      <td>0</td>\n",
       "      <td>0</td>\n",
       "      <td>0</td>\n",
       "      <td>0</td>\n",
       "      <td>0</td>\n",
       "      <td>0</td>\n",
       "      <td>0</td>\n",
       "      <td>0</td>\n",
       "      <td>0</td>\n",
       "      <td>0</td>\n",
       "    </tr>\n",
       "    <tr>\n",
       "      <th>3</th>\n",
       "      <td>4</td>\n",
       "      <td>0</td>\n",
       "      <td>0</td>\n",
       "      <td>0</td>\n",
       "      <td>0</td>\n",
       "      <td>0</td>\n",
       "      <td>0</td>\n",
       "      <td>0</td>\n",
       "      <td>0</td>\n",
       "      <td>0</td>\n",
       "      <td>...</td>\n",
       "      <td>0</td>\n",
       "      <td>0</td>\n",
       "      <td>0</td>\n",
       "      <td>0</td>\n",
       "      <td>0</td>\n",
       "      <td>0</td>\n",
       "      <td>0</td>\n",
       "      <td>0</td>\n",
       "      <td>0</td>\n",
       "      <td>0</td>\n",
       "    </tr>\n",
       "    <tr>\n",
       "      <th>4</th>\n",
       "      <td>0</td>\n",
       "      <td>0</td>\n",
       "      <td>0</td>\n",
       "      <td>0</td>\n",
       "      <td>0</td>\n",
       "      <td>0</td>\n",
       "      <td>0</td>\n",
       "      <td>0</td>\n",
       "      <td>0</td>\n",
       "      <td>0</td>\n",
       "      <td>...</td>\n",
       "      <td>0</td>\n",
       "      <td>0</td>\n",
       "      <td>0</td>\n",
       "      <td>0</td>\n",
       "      <td>0</td>\n",
       "      <td>0</td>\n",
       "      <td>0</td>\n",
       "      <td>0</td>\n",
       "      <td>0</td>\n",
       "      <td>0</td>\n",
       "    </tr>\n",
       "  </tbody>\n",
       "</table>\n",
       "<p>5 rows × 785 columns</p>\n",
       "</div>"
      ],
      "text/plain": [
       "   label  pixel0  pixel1  pixel2  pixel3  pixel4  pixel5  pixel6  pixel7  \\\n",
       "0      1       0       0       0       0       0       0       0       0   \n",
       "1      0       0       0       0       0       0       0       0       0   \n",
       "2      1       0       0       0       0       0       0       0       0   \n",
       "3      4       0       0       0       0       0       0       0       0   \n",
       "4      0       0       0       0       0       0       0       0       0   \n",
       "\n",
       "   pixel8  ...  pixel774  pixel775  pixel776  pixel777  pixel778  pixel779  \\\n",
       "0       0  ...         0         0         0         0         0         0   \n",
       "1       0  ...         0         0         0         0         0         0   \n",
       "2       0  ...         0         0         0         0         0         0   \n",
       "3       0  ...         0         0         0         0         0         0   \n",
       "4       0  ...         0         0         0         0         0         0   \n",
       "\n",
       "   pixel780  pixel781  pixel782  pixel783  \n",
       "0         0         0         0         0  \n",
       "1         0         0         0         0  \n",
       "2         0         0         0         0  \n",
       "3         0         0         0         0  \n",
       "4         0         0         0         0  \n",
       "\n",
       "[5 rows x 785 columns]"
      ]
     },
     "execution_count": 2,
     "metadata": {},
     "output_type": "execute_result"
    }
   ],
   "source": [
    "train_data = pd.read_csv(\"/kaggle/input/digit-recognizer/train.csv\")\n",
    "print(train_data.shape)\n",
    "train_data.head()"
   ]
  },
  {
   "cell_type": "code",
   "execution_count": 3,
   "id": "aef3ea11",
   "metadata": {
    "execution": {
     "iopub.execute_input": "2024-02-13T20:16:22.042935Z",
     "iopub.status.busy": "2024-02-13T20:16:22.042296Z",
     "iopub.status.idle": "2024-02-13T20:16:24.301294Z",
     "shell.execute_reply": "2024-02-13T20:16:24.300160Z"
    },
    "papermill": {
     "duration": 2.272647,
     "end_time": "2024-02-13T20:16:24.303602",
     "exception": false,
     "start_time": "2024-02-13T20:16:22.030955",
     "status": "completed"
    },
    "tags": []
   },
   "outputs": [
    {
     "name": "stdout",
     "output_type": "stream",
     "text": [
      "(28000, 784)\n"
     ]
    },
    {
     "data": {
      "text/html": [
       "<div>\n",
       "<style scoped>\n",
       "    .dataframe tbody tr th:only-of-type {\n",
       "        vertical-align: middle;\n",
       "    }\n",
       "\n",
       "    .dataframe tbody tr th {\n",
       "        vertical-align: top;\n",
       "    }\n",
       "\n",
       "    .dataframe thead th {\n",
       "        text-align: right;\n",
       "    }\n",
       "</style>\n",
       "<table border=\"1\" class=\"dataframe\">\n",
       "  <thead>\n",
       "    <tr style=\"text-align: right;\">\n",
       "      <th></th>\n",
       "      <th>pixel0</th>\n",
       "      <th>pixel1</th>\n",
       "      <th>pixel2</th>\n",
       "      <th>pixel3</th>\n",
       "      <th>pixel4</th>\n",
       "      <th>pixel5</th>\n",
       "      <th>pixel6</th>\n",
       "      <th>pixel7</th>\n",
       "      <th>pixel8</th>\n",
       "      <th>pixel9</th>\n",
       "      <th>...</th>\n",
       "      <th>pixel774</th>\n",
       "      <th>pixel775</th>\n",
       "      <th>pixel776</th>\n",
       "      <th>pixel777</th>\n",
       "      <th>pixel778</th>\n",
       "      <th>pixel779</th>\n",
       "      <th>pixel780</th>\n",
       "      <th>pixel781</th>\n",
       "      <th>pixel782</th>\n",
       "      <th>pixel783</th>\n",
       "    </tr>\n",
       "  </thead>\n",
       "  <tbody>\n",
       "    <tr>\n",
       "      <th>0</th>\n",
       "      <td>0</td>\n",
       "      <td>0</td>\n",
       "      <td>0</td>\n",
       "      <td>0</td>\n",
       "      <td>0</td>\n",
       "      <td>0</td>\n",
       "      <td>0</td>\n",
       "      <td>0</td>\n",
       "      <td>0</td>\n",
       "      <td>0</td>\n",
       "      <td>...</td>\n",
       "      <td>0</td>\n",
       "      <td>0</td>\n",
       "      <td>0</td>\n",
       "      <td>0</td>\n",
       "      <td>0</td>\n",
       "      <td>0</td>\n",
       "      <td>0</td>\n",
       "      <td>0</td>\n",
       "      <td>0</td>\n",
       "      <td>0</td>\n",
       "    </tr>\n",
       "    <tr>\n",
       "      <th>1</th>\n",
       "      <td>0</td>\n",
       "      <td>0</td>\n",
       "      <td>0</td>\n",
       "      <td>0</td>\n",
       "      <td>0</td>\n",
       "      <td>0</td>\n",
       "      <td>0</td>\n",
       "      <td>0</td>\n",
       "      <td>0</td>\n",
       "      <td>0</td>\n",
       "      <td>...</td>\n",
       "      <td>0</td>\n",
       "      <td>0</td>\n",
       "      <td>0</td>\n",
       "      <td>0</td>\n",
       "      <td>0</td>\n",
       "      <td>0</td>\n",
       "      <td>0</td>\n",
       "      <td>0</td>\n",
       "      <td>0</td>\n",
       "      <td>0</td>\n",
       "    </tr>\n",
       "    <tr>\n",
       "      <th>2</th>\n",
       "      <td>0</td>\n",
       "      <td>0</td>\n",
       "      <td>0</td>\n",
       "      <td>0</td>\n",
       "      <td>0</td>\n",
       "      <td>0</td>\n",
       "      <td>0</td>\n",
       "      <td>0</td>\n",
       "      <td>0</td>\n",
       "      <td>0</td>\n",
       "      <td>...</td>\n",
       "      <td>0</td>\n",
       "      <td>0</td>\n",
       "      <td>0</td>\n",
       "      <td>0</td>\n",
       "      <td>0</td>\n",
       "      <td>0</td>\n",
       "      <td>0</td>\n",
       "      <td>0</td>\n",
       "      <td>0</td>\n",
       "      <td>0</td>\n",
       "    </tr>\n",
       "    <tr>\n",
       "      <th>3</th>\n",
       "      <td>0</td>\n",
       "      <td>0</td>\n",
       "      <td>0</td>\n",
       "      <td>0</td>\n",
       "      <td>0</td>\n",
       "      <td>0</td>\n",
       "      <td>0</td>\n",
       "      <td>0</td>\n",
       "      <td>0</td>\n",
       "      <td>0</td>\n",
       "      <td>...</td>\n",
       "      <td>0</td>\n",
       "      <td>0</td>\n",
       "      <td>0</td>\n",
       "      <td>0</td>\n",
       "      <td>0</td>\n",
       "      <td>0</td>\n",
       "      <td>0</td>\n",
       "      <td>0</td>\n",
       "      <td>0</td>\n",
       "      <td>0</td>\n",
       "    </tr>\n",
       "    <tr>\n",
       "      <th>4</th>\n",
       "      <td>0</td>\n",
       "      <td>0</td>\n",
       "      <td>0</td>\n",
       "      <td>0</td>\n",
       "      <td>0</td>\n",
       "      <td>0</td>\n",
       "      <td>0</td>\n",
       "      <td>0</td>\n",
       "      <td>0</td>\n",
       "      <td>0</td>\n",
       "      <td>...</td>\n",
       "      <td>0</td>\n",
       "      <td>0</td>\n",
       "      <td>0</td>\n",
       "      <td>0</td>\n",
       "      <td>0</td>\n",
       "      <td>0</td>\n",
       "      <td>0</td>\n",
       "      <td>0</td>\n",
       "      <td>0</td>\n",
       "      <td>0</td>\n",
       "    </tr>\n",
       "  </tbody>\n",
       "</table>\n",
       "<p>5 rows × 784 columns</p>\n",
       "</div>"
      ],
      "text/plain": [
       "   pixel0  pixel1  pixel2  pixel3  pixel4  pixel5  pixel6  pixel7  pixel8  \\\n",
       "0       0       0       0       0       0       0       0       0       0   \n",
       "1       0       0       0       0       0       0       0       0       0   \n",
       "2       0       0       0       0       0       0       0       0       0   \n",
       "3       0       0       0       0       0       0       0       0       0   \n",
       "4       0       0       0       0       0       0       0       0       0   \n",
       "\n",
       "   pixel9  ...  pixel774  pixel775  pixel776  pixel777  pixel778  pixel779  \\\n",
       "0       0  ...         0         0         0         0         0         0   \n",
       "1       0  ...         0         0         0         0         0         0   \n",
       "2       0  ...         0         0         0         0         0         0   \n",
       "3       0  ...         0         0         0         0         0         0   \n",
       "4       0  ...         0         0         0         0         0         0   \n",
       "\n",
       "   pixel780  pixel781  pixel782  pixel783  \n",
       "0         0         0         0         0  \n",
       "1         0         0         0         0  \n",
       "2         0         0         0         0  \n",
       "3         0         0         0         0  \n",
       "4         0         0         0         0  \n",
       "\n",
       "[5 rows x 784 columns]"
      ]
     },
     "execution_count": 3,
     "metadata": {},
     "output_type": "execute_result"
    }
   ],
   "source": [
    "test_data = pd.read_csv(\"/kaggle/input/digit-recognizer/test.csv\")\n",
    "print(test_data.shape)\n",
    "test_data.head()"
   ]
  },
  {
   "cell_type": "markdown",
   "id": "5050eaa5",
   "metadata": {
    "papermill": {
     "duration": 0.010415,
     "end_time": "2024-02-13T20:16:24.324911",
     "exception": false,
     "start_time": "2024-02-13T20:16:24.314496",
     "status": "completed"
    },
    "tags": []
   },
   "source": [
    "Convert pixel values to floats."
   ]
  },
  {
   "cell_type": "code",
   "execution_count": 4,
   "id": "5646651f",
   "metadata": {
    "execution": {
     "iopub.execute_input": "2024-02-13T20:16:24.347228Z",
     "iopub.status.busy": "2024-02-13T20:16:24.346792Z",
     "iopub.status.idle": "2024-02-13T20:16:24.658153Z",
     "shell.execute_reply": "2024-02-13T20:16:24.657057Z"
    },
    "papermill": {
     "duration": 0.325104,
     "end_time": "2024-02-13T20:16:24.660669",
     "exception": false,
     "start_time": "2024-02-13T20:16:24.335565",
     "status": "completed"
    },
    "tags": []
   },
   "outputs": [],
   "source": [
    "X_train = pd.get_dummies(train_data.iloc[:,1:])\n",
    "X_train = X_train.values.astype('float32')\n",
    "\n",
    "y_train = pd.get_dummies(train_data.iloc[:,0])\n",
    "y_train = y_train.values.astype('int16')\n",
    "\n",
    "X_test = test_data.values.astype('float32')"
   ]
  },
  {
   "cell_type": "markdown",
   "id": "6a22de0f",
   "metadata": {
    "papermill": {
     "duration": 0.010365,
     "end_time": "2024-02-13T20:16:24.681679",
     "exception": false,
     "start_time": "2024-02-13T20:16:24.671314",
     "status": "completed"
    },
    "tags": []
   },
   "source": [
    "# Reshaping the Data\n",
    "Since each image is 28x28 pixels and one color channel, reshape to these dimensions.  We use a -1 to signify we want the dimension to be calculated for us."
   ]
  },
  {
   "cell_type": "code",
   "execution_count": 5,
   "id": "116a3e9e",
   "metadata": {
    "execution": {
     "iopub.execute_input": "2024-02-13T20:16:24.705123Z",
     "iopub.status.busy": "2024-02-13T20:16:24.704760Z",
     "iopub.status.idle": "2024-02-13T20:16:24.709542Z",
     "shell.execute_reply": "2024-02-13T20:16:24.708655Z"
    },
    "papermill": {
     "duration": 0.018558,
     "end_time": "2024-02-13T20:16:24.711640",
     "exception": false,
     "start_time": "2024-02-13T20:16:24.693082",
     "status": "completed"
    },
    "tags": []
   },
   "outputs": [],
   "source": [
    "X_train = X_train.reshape(-1, 28, 28,1)\n",
    "X_test = X_test.reshape(-1,28,28,1)"
   ]
  },
  {
   "cell_type": "markdown",
   "id": "b34668ff",
   "metadata": {
    "papermill": {
     "duration": 0.010049,
     "end_time": "2024-02-13T20:16:24.732493",
     "exception": false,
     "start_time": "2024-02-13T20:16:24.722444",
     "status": "completed"
    },
    "tags": []
   },
   "source": [
    "Let's have a look at this data to see what we are working with."
   ]
  },
  {
   "cell_type": "code",
   "execution_count": 6,
   "id": "0a08b6b0",
   "metadata": {
    "execution": {
     "iopub.execute_input": "2024-02-13T20:16:24.755553Z",
     "iopub.status.busy": "2024-02-13T20:16:24.754742Z",
     "iopub.status.idle": "2024-02-13T20:16:24.760064Z",
     "shell.execute_reply": "2024-02-13T20:16:24.759179Z"
    },
    "papermill": {
     "duration": 0.019101,
     "end_time": "2024-02-13T20:16:24.762105",
     "exception": false,
     "start_time": "2024-02-13T20:16:24.743004",
     "status": "completed"
    },
    "tags": []
   },
   "outputs": [
    {
     "name": "stdout",
     "output_type": "stream",
     "text": [
      "X_train shape:  (42000, 28, 28, 1)\n"
     ]
    }
   ],
   "source": [
    "print('X_train shape: ', X_train.shape)"
   ]
  },
  {
   "cell_type": "markdown",
   "id": "d4a88f72",
   "metadata": {
    "papermill": {
     "duration": 0.010446,
     "end_time": "2024-02-13T20:16:24.783140",
     "exception": false,
     "start_time": "2024-02-13T20:16:24.772694",
     "status": "completed"
    },
    "tags": []
   },
   "source": [
    "The training data has 42,000 images that are made up of 28x28pixels(784 in total) with 1 color channel"
   ]
  },
  {
   "cell_type": "markdown",
   "id": "476861c8",
   "metadata": {
    "papermill": {
     "duration": 0.01014,
     "end_time": "2024-02-13T20:16:24.804722",
     "exception": false,
     "start_time": "2024-02-13T20:16:24.794582",
     "status": "completed"
    },
    "tags": []
   },
   "source": [
    "Let's see what some of the images look like."
   ]
  },
  {
   "cell_type": "markdown",
   "id": "bc2dab2b",
   "metadata": {
    "papermill": {
     "duration": 0.011064,
     "end_time": "2024-02-13T20:16:25.951708",
     "exception": false,
     "start_time": "2024-02-13T20:16:25.940644",
     "status": "completed"
    },
    "tags": []
   },
   "source": [
    "# Data Preprocessing\n",
    "\n",
    "In this case we will simply scale all our greyscale pixel values (0-255) to be between 0 and 1. We can do this by dividing each value in the training and testing sets by 255.0. We do this because smaller values will make it easier for the model to process our values."
   ]
  },
  {
   "cell_type": "code",
   "execution_count": 8,
   "id": "7d41f830",
   "metadata": {
    "execution": {
     "iopub.execute_input": "2024-02-13T20:16:25.975948Z",
     "iopub.status.busy": "2024-02-13T20:16:25.975212Z",
     "iopub.status.idle": "2024-02-13T20:16:26.044055Z",
     "shell.execute_reply": "2024-02-13T20:16:26.043170Z"
    },
    "papermill": {
     "duration": 0.083842,
     "end_time": "2024-02-13T20:16:26.046470",
     "exception": false,
     "start_time": "2024-02-13T20:16:25.962628",
     "status": "completed"
    },
    "tags": []
   },
   "outputs": [],
   "source": [
    "X_train = X_train / 255.0\n",
    "X_test = X_test / 255.0"
   ]
  },
  {
   "cell_type": "markdown",
   "id": "5444f3a9",
   "metadata": {
    "papermill": {
     "duration": 0.011196,
     "end_time": "2024-02-13T20:16:26.069087",
     "exception": false,
     "start_time": "2024-02-13T20:16:26.057891",
     "status": "completed"
    },
    "tags": []
   },
   "source": [
    "# Split the data"
   ]
  },
  {
   "cell_type": "code",
   "execution_count": 9,
   "id": "a8485183",
   "metadata": {
    "execution": {
     "iopub.execute_input": "2024-02-13T20:16:26.094736Z",
     "iopub.status.busy": "2024-02-13T20:16:26.093959Z",
     "iopub.status.idle": "2024-02-13T20:16:26.454466Z",
     "shell.execute_reply": "2024-02-13T20:16:26.453469Z"
    },
    "papermill": {
     "duration": 0.375932,
     "end_time": "2024-02-13T20:16:26.456940",
     "exception": false,
     "start_time": "2024-02-13T20:16:26.081008",
     "status": "completed"
    },
    "tags": []
   },
   "outputs": [],
   "source": [
    "X=X_train\n",
    "y=y_train\n",
    "X_train, X_val, y_train, y_val = train_test_split(X,y,test_size=0.10, random_state=0)"
   ]
  },
  {
   "cell_type": "markdown",
   "id": "212c472b",
   "metadata": {
    "papermill": {
     "duration": 0.010695,
     "end_time": "2024-02-13T20:16:26.478739",
     "exception": false,
     "start_time": "2024-02-13T20:16:26.468044",
     "status": "completed"
    },
    "tags": []
   },
   "source": [
    "# CNN Architecture\n",
    "\n",
    "A common architecture for a CNN is a stack of Conv2D and MaxPooling2D layers followed by a few denesly connected layers. To idea is that the stack of convolutional and maxPooling layers extract the features from the image. Then these features are flattened and fed to densly connected layers that determine the class of an image based on the presence of features.\n",
    "\n",
    "We will start by building the **Convolutional Base**."
   ]
  },
  {
   "cell_type": "code",
   "execution_count": 10,
   "id": "3e821333",
   "metadata": {
    "execution": {
     "iopub.execute_input": "2024-02-13T20:16:26.502873Z",
     "iopub.status.busy": "2024-02-13T20:16:26.502126Z",
     "iopub.status.idle": "2024-02-13T20:16:27.349679Z",
     "shell.execute_reply": "2024-02-13T20:16:27.348877Z"
    },
    "papermill": {
     "duration": 0.862035,
     "end_time": "2024-02-13T20:16:27.351971",
     "exception": false,
     "start_time": "2024-02-13T20:16:26.489936",
     "status": "completed"
    },
    "tags": []
   },
   "outputs": [],
   "source": [
    "model = keras.models.Sequential()\n",
    "model.add(layers.Conv2D(32, (3, 3), activation='relu', input_shape=(28,28,1)))\n",
    "model.add(layers.BatchNormalization())\n",
    "model.add(layers.MaxPooling2D((2, 2)))\n",
    "model.add(layers.Conv2D(64, (3, 3), activation='relu'))\n",
    "model.add(layers.BatchNormalization())\n",
    "model.add(layers.MaxPooling2D((2, 2)))\n",
    "model.add(layers.Conv2D(64, (3, 3), activation='relu'))\n",
    "\n",
    "\n",
    "# # we'll use categorical xent for the loss, and RMSprop as the optimizer\n",
    "# model.compile(loss='categorical_crossentropy', optimizer='rmsprop', metrics=['accuracy'])"
   ]
  },
  {
   "cell_type": "markdown",
   "id": "1cb2fef7",
   "metadata": {
    "papermill": {
     "duration": 0.01074,
     "end_time": "2024-02-13T20:16:27.374556",
     "exception": false,
     "start_time": "2024-02-13T20:16:27.363816",
     "status": "completed"
    },
    "tags": []
   },
   "source": [
    "# Model Layer Breakdown\n",
    "**Convolutional Layer (Conv2D):**\n",
    "\n",
    "* Number of Filters: 32\n",
    "* Filter Size: (3, 3)\n",
    "* Activation Function: ReLU (Rectified Linear Unit)\n",
    "* Input Shape: (28, 28, 1) (28x28 pixels on one color channel)\n",
    "* Description: This layer performs convolution on the input image. It applies 32 filters of size 3x3 to the input image. The ReLU activation function is applied element-wise to introduce non-linearity to the network.\n",
    "\n",
    "**Batch Normalization Layer:**\n",
    "\n",
    "* Description: Batch normalization is applied after the convolutional layer. It normalizes the activations of the previous layer, which helps in stabilizing and accelerating the training process. It reduces the internal covariate shift by normalizing the output of the activation function.\n",
    "\n",
    "**Max Pooling Layer (MaxPooling2D):**\n",
    "\n",
    "* Pool Size: (2, 2)\n",
    "* Description: This layer performs max pooling operation with a pool size of 2x2. It reduces the spatial dimensions of the input image by taking the maximum value within each 2x2 window. This helps in reducing computational complexity and controlling overfitting.\n",
    "\n",
    "\n",
    "**Other Layers**\n",
    "\n",
    "* The next set of layers do very similar things but take as input the feature map from the previous layer. They also increase the frequency of filters from 32 to 64. We can do this as our data shrinks in spacial dimensions as it passed through the layers, meaning we can afford (computationally) to add more depth.\n",
    "\n",
    "\n",
    "\n"
   ]
  },
  {
   "cell_type": "code",
   "execution_count": 11,
   "id": "2bd1b87b",
   "metadata": {
    "execution": {
     "iopub.execute_input": "2024-02-13T20:16:27.397987Z",
     "iopub.status.busy": "2024-02-13T20:16:27.397658Z",
     "iopub.status.idle": "2024-02-13T20:16:27.429268Z",
     "shell.execute_reply": "2024-02-13T20:16:27.428191Z"
    },
    "papermill": {
     "duration": 0.053692,
     "end_time": "2024-02-13T20:16:27.438607",
     "exception": false,
     "start_time": "2024-02-13T20:16:27.384915",
     "status": "completed"
    },
    "tags": []
   },
   "outputs": [
    {
     "name": "stdout",
     "output_type": "stream",
     "text": [
      "Model: \"sequential\"\n",
      "_________________________________________________________________\n",
      " Layer (type)                Output Shape              Param #   \n",
      "=================================================================\n",
      " conv2d (Conv2D)             (None, 26, 26, 32)        320       \n",
      "                                                                 \n",
      " batch_normalization (Batch  (None, 26, 26, 32)        128       \n",
      " Normalization)                                                  \n",
      "                                                                 \n",
      " max_pooling2d (MaxPooling2  (None, 13, 13, 32)        0         \n",
      " D)                                                              \n",
      "                                                                 \n",
      " conv2d_1 (Conv2D)           (None, 11, 11, 64)        18496     \n",
      "                                                                 \n",
      " batch_normalization_1 (Bat  (None, 11, 11, 64)        256       \n",
      " chNormalization)                                                \n",
      "                                                                 \n",
      " max_pooling2d_1 (MaxPoolin  (None, 5, 5, 64)          0         \n",
      " g2D)                                                            \n",
      "                                                                 \n",
      " conv2d_2 (Conv2D)           (None, 3, 3, 64)          36928     \n",
      "                                                                 \n",
      "=================================================================\n",
      "Total params: 56128 (219.25 KB)\n",
      "Trainable params: 55936 (218.50 KB)\n",
      "Non-trainable params: 192 (768.00 Byte)\n",
      "_________________________________________________________________\n"
     ]
    }
   ],
   "source": [
    "model.summary() "
   ]
  },
  {
   "cell_type": "markdown",
   "id": "461f1699",
   "metadata": {
    "papermill": {
     "duration": 0.012792,
     "end_time": "2024-02-13T20:16:27.464179",
     "exception": false,
     "start_time": "2024-02-13T20:16:27.451387",
     "status": "completed"
    },
    "tags": []
   },
   "source": [
    "# Adding Dense Layers\n",
    "So far, we have just completed the **convolutional base**. Now we need to take these extracted features and add a way to classify them. This is why we add the following layers to our model.\n"
   ]
  },
  {
   "cell_type": "code",
   "execution_count": 12,
   "id": "c0c56303",
   "metadata": {
    "execution": {
     "iopub.execute_input": "2024-02-13T20:16:27.491278Z",
     "iopub.status.busy": "2024-02-13T20:16:27.490945Z",
     "iopub.status.idle": "2024-02-13T20:16:27.532152Z",
     "shell.execute_reply": "2024-02-13T20:16:27.531348Z"
    },
    "papermill": {
     "duration": 0.057565,
     "end_time": "2024-02-13T20:16:27.534378",
     "exception": false,
     "start_time": "2024-02-13T20:16:27.476813",
     "status": "completed"
    },
    "tags": []
   },
   "outputs": [],
   "source": [
    "model.add(layers.Flatten())\n",
    "model.add(layers.Dense(100, activation='relu'))\n",
    "model.add(layers.Dense(10, activation='softmax'))"
   ]
  },
  {
   "cell_type": "code",
   "execution_count": 13,
   "id": "18618b05",
   "metadata": {
    "execution": {
     "iopub.execute_input": "2024-02-13T20:16:27.565175Z",
     "iopub.status.busy": "2024-02-13T20:16:27.564260Z",
     "iopub.status.idle": "2024-02-13T20:16:27.601907Z",
     "shell.execute_reply": "2024-02-13T20:16:27.600764Z"
    },
    "papermill": {
     "duration": 0.064717,
     "end_time": "2024-02-13T20:16:27.613033",
     "exception": false,
     "start_time": "2024-02-13T20:16:27.548316",
     "status": "completed"
    },
    "tags": []
   },
   "outputs": [
    {
     "name": "stdout",
     "output_type": "stream",
     "text": [
      "Model: \"sequential\"\n",
      "_________________________________________________________________\n",
      " Layer (type)                Output Shape              Param #   \n",
      "=================================================================\n",
      " conv2d (Conv2D)             (None, 26, 26, 32)        320       \n",
      "                                                                 \n",
      " batch_normalization (Batch  (None, 26, 26, 32)        128       \n",
      " Normalization)                                                  \n",
      "                                                                 \n",
      " max_pooling2d (MaxPooling2  (None, 13, 13, 32)        0         \n",
      " D)                                                              \n",
      "                                                                 \n",
      " conv2d_1 (Conv2D)           (None, 11, 11, 64)        18496     \n",
      "                                                                 \n",
      " batch_normalization_1 (Bat  (None, 11, 11, 64)        256       \n",
      " chNormalization)                                                \n",
      "                                                                 \n",
      " max_pooling2d_1 (MaxPoolin  (None, 5, 5, 64)          0         \n",
      " g2D)                                                            \n",
      "                                                                 \n",
      " conv2d_2 (Conv2D)           (None, 3, 3, 64)          36928     \n",
      "                                                                 \n",
      " flatten (Flatten)           (None, 576)               0         \n",
      "                                                                 \n",
      " dense (Dense)               (None, 100)               57700     \n",
      "                                                                 \n",
      " dense_1 (Dense)             (None, 10)                1010      \n",
      "                                                                 \n",
      "=================================================================\n",
      "Total params: 114838 (448.59 KB)\n",
      "Trainable params: 114646 (447.84 KB)\n",
      "Non-trainable params: 192 (768.00 Byte)\n",
      "_________________________________________________________________\n"
     ]
    }
   ],
   "source": [
    "model.summary()"
   ]
  },
  {
   "cell_type": "markdown",
   "id": "342ce2b8",
   "metadata": {
    "papermill": {
     "duration": 0.01649,
     "end_time": "2024-02-13T20:16:27.647027",
     "exception": false,
     "start_time": "2024-02-13T20:16:27.630537",
     "status": "completed"
    },
    "tags": []
   },
   "source": [
    "We can see that the flatten layer changes the shape of our data so that we can feed it to the 100-node dense layer, follwed by the final output layer of 10 neurons (one for each class).\n"
   ]
  },
  {
   "cell_type": "markdown",
   "id": "7b1522da",
   "metadata": {
    "papermill": {
     "duration": 0.017142,
     "end_time": "2024-02-13T20:16:27.681302",
     "exception": false,
     "start_time": "2024-02-13T20:16:27.664160",
     "status": "completed"
    },
    "tags": []
   },
   "source": [
    "# Compiling the Model.  \n",
    "\n",
    "Here's why you might choose this configuration:\n",
    "\n",
    "**Simplicity:** Using categorical crossentropy without logits simplifies the output layer of your model. Instead of dealing with raw logits, the model outputs probabilities directly, which can be easier to interpret and work with in many cases.\n",
    "\n",
    "**Compatibility:** Many models and tutorials use categorical crossentropy with probabilities rather than logits. By using this configuration, your code might align more closely with existing examples and documentation.\n",
    "\n",
    "**Standard Practice:** For many multi-class classification tasks, using categorical crossentropy with probabilities is a standard practice. It's a well-established method that has been proven effective in a wide range of applications.\n",
    "\n",
    "**Ease of Use:** Specifying the loss function as 'categorical_crossentropy' without logits is straightforward and requires less customization compared to handling logits directly. This simplicity can be advantageous, especially for users who are new to deep learning or want to minimize complexity in their code.\n",
    "\n",
    "Overall, if your model's output is already in the form of probabilities (after passing through a softmax activation), using categorical crossentropy without logits is a natural choice for measuring the discrepancy between predicted probabilities and true class labels.\n",
    "\n",
    "\"List reasons to use this model: model.compile(optimizer='adam', loss=tf.keras.losses.CategoricalCrossentropy(), metrics=['accuracy'])\" prompt. ChatGPT, 3.5, OpenAI, 13 Feb. 2024. https://chat.openai.com."
   ]
  },
  {
   "cell_type": "code",
   "execution_count": 14,
   "id": "931ed271",
   "metadata": {
    "execution": {
     "iopub.execute_input": "2024-02-13T20:16:27.717349Z",
     "iopub.status.busy": "2024-02-13T20:16:27.716906Z",
     "iopub.status.idle": "2024-02-13T20:16:27.738390Z",
     "shell.execute_reply": "2024-02-13T20:16:27.737264Z"
    },
    "papermill": {
     "duration": 0.042024,
     "end_time": "2024-02-13T20:16:27.740645",
     "exception": false,
     "start_time": "2024-02-13T20:16:27.698621",
     "status": "completed"
    },
    "tags": []
   },
   "outputs": [],
   "source": [
    "model.compile(optimizer='adam',\n",
    "              loss=tf.keras.losses.CategoricalCrossentropy(),\n",
    "              metrics=['accuracy'])"
   ]
  },
  {
   "cell_type": "code",
   "execution_count": 15,
   "id": "1b10af4b",
   "metadata": {
    "execution": {
     "iopub.execute_input": "2024-02-13T20:16:27.777502Z",
     "iopub.status.busy": "2024-02-13T20:16:27.777045Z",
     "iopub.status.idle": "2024-02-13T20:17:31.133013Z",
     "shell.execute_reply": "2024-02-13T20:17:31.132013Z"
    },
    "papermill": {
     "duration": 63.377594,
     "end_time": "2024-02-13T20:17:31.135490",
     "exception": false,
     "start_time": "2024-02-13T20:16:27.757896",
     "status": "completed"
    },
    "tags": []
   },
   "outputs": [
    {
     "name": "stdout",
     "output_type": "stream",
     "text": [
      "Epoch 1/10\n"
     ]
    },
    {
     "name": "stderr",
     "output_type": "stream",
     "text": [
      "WARNING: All log messages before absl::InitializeLog() is called are written to STDERR\n",
      "I0000 00:00:1707855391.123779      67 device_compiler.h:186] Compiled cluster using XLA!  This line is logged at most once for the lifetime of the process.\n"
     ]
    },
    {
     "name": "stdout",
     "output_type": "stream",
     "text": [
      "1182/1182 [==============================] - 11s 5ms/step - loss: 0.1256 - accuracy: 0.9616 - val_loss: 0.0699 - val_accuracy: 0.9776\n",
      "Epoch 2/10\n",
      "1182/1182 [==============================] - 6s 5ms/step - loss: 0.0511 - accuracy: 0.9846 - val_loss: 0.0641 - val_accuracy: 0.9795\n",
      "Epoch 3/10\n",
      "1182/1182 [==============================] - 6s 5ms/step - loss: 0.0370 - accuracy: 0.9886 - val_loss: 0.0500 - val_accuracy: 0.9864\n",
      "Epoch 4/10\n",
      "1182/1182 [==============================] - 6s 5ms/step - loss: 0.0296 - accuracy: 0.9910 - val_loss: 0.0530 - val_accuracy: 0.9874\n",
      "Epoch 5/10\n",
      "1182/1182 [==============================] - 6s 5ms/step - loss: 0.0229 - accuracy: 0.9930 - val_loss: 0.0557 - val_accuracy: 0.9867\n",
      "Epoch 6/10\n",
      "1182/1182 [==============================] - 6s 5ms/step - loss: 0.0229 - accuracy: 0.9930 - val_loss: 0.0509 - val_accuracy: 0.9869\n",
      "Epoch 7/10\n",
      "1182/1182 [==============================] - 6s 5ms/step - loss: 0.0192 - accuracy: 0.9935 - val_loss: 0.0637 - val_accuracy: 0.9871\n",
      "Epoch 8/10\n",
      "1182/1182 [==============================] - 6s 5ms/step - loss: 0.0143 - accuracy: 0.9955 - val_loss: 0.0839 - val_accuracy: 0.9840\n",
      "Epoch 9/10\n",
      "1182/1182 [==============================] - 6s 5ms/step - loss: 0.0167 - accuracy: 0.9950 - val_loss: 0.1012 - val_accuracy: 0.9767\n",
      "Epoch 10/10\n",
      "1182/1182 [==============================] - 6s 5ms/step - loss: 0.0140 - accuracy: 0.9962 - val_loss: 0.0621 - val_accuracy: 0.9867\n"
     ]
    }
   ],
   "source": [
    "history = model.fit(\n",
    "    X_train, y_train,\n",
    "    validation_data=(X_val,y_val),\n",
    "    batch_size=32,\n",
    "    epochs=10)"
   ]
  },
  {
   "cell_type": "code",
   "execution_count": 16,
   "id": "613b6477",
   "metadata": {
    "execution": {
     "iopub.execute_input": "2024-02-13T20:17:31.389583Z",
     "iopub.status.busy": "2024-02-13T20:17:31.388837Z",
     "iopub.status.idle": "2024-02-13T20:17:31.629697Z",
     "shell.execute_reply": "2024-02-13T20:17:31.628786Z"
    },
    "papermill": {
     "duration": 0.345887,
     "end_time": "2024-02-13T20:17:31.631915",
     "exception": false,
     "start_time": "2024-02-13T20:17:31.286028",
     "status": "completed"
    },
    "tags": []
   },
   "outputs": [
    {
     "name": "stdout",
     "output_type": "stream",
     "text": [
      "                  Minimum validation loss: 0.049959417432546616\n",
      "                   Ending validation loss: 0.06210232526063919\n"
     ]
    },
    {
     "data": {
      "image/png": "[encoded data removed]",
      "text/plain": [
       "<Figure size 640x480 with 1 Axes>"
      ]
     },
     "metadata": {},
     "output_type": "display_data"
    }
   ],
   "source": [
    "history_df = pd.DataFrame(history.history)\n",
    "history_df.loc[:, ['loss', 'val_loss']].plot();\n",
    "min_val_loss = history_df['val_loss'].min()\n",
    "ending_val_loss = history_df['val_loss'].iloc[-1]  # Fetching the last val_loss value\n",
    "print(\"                  Minimum validation loss: {}\".format(min_val_loss))\n",
    "print(\"                   Ending validation loss: {}\".format(ending_val_loss))"
   ]
  },
  {
   "cell_type": "markdown",
   "id": "a182ca81",
   "metadata": {
    "papermill": {
     "duration": 0.1074,
     "end_time": "2024-02-13T20:17:31.843947",
     "exception": false,
     "start_time": "2024-02-13T20:17:31.736547",
     "status": "completed"
    },
    "tags": []
   },
   "source": [
    "# Making Predictions\n",
    "To make predictions we simply need to pass an array of data in the form we've specified in the input layer to ```.predict()``` method."
   ]
  },
  {
   "cell_type": "code",
   "execution_count": 17,
   "id": "24c01780",
   "metadata": {
    "execution": {
     "iopub.execute_input": "2024-02-13T20:17:32.078952Z",
     "iopub.status.busy": "2024-02-13T20:17:32.078555Z",
     "iopub.status.idle": "2024-02-13T20:17:32.630647Z",
     "shell.execute_reply": "2024-02-13T20:17:32.629730Z"
    },
    "papermill": {
     "duration": 0.674576,
     "end_time": "2024-02-13T20:17:32.633026",
     "exception": false,
     "start_time": "2024-02-13T20:17:31.958450",
     "status": "completed"
    },
    "tags": []
   },
   "outputs": [
    {
     "name": "stdout",
     "output_type": "stream",
     "text": [
      "132/132 [==============================] - 0s 2ms/step\n"
     ]
    }
   ],
   "source": [
    "predictions = model.predict(X_val)"
   ]
  },
  {
   "cell_type": "markdown",
   "id": "1b7663ad",
   "metadata": {
    "papermill": {
     "duration": 0.110228,
     "end_time": "2024-02-13T20:17:32.849544",
     "exception": false,
     "start_time": "2024-02-13T20:17:32.739316",
     "status": "completed"
    },
    "tags": []
   },
   "source": [
    "# Verifying predcitions\n",
    "\n",
    "The following script had to be commented out since no user input is permitted for Kaggle's submissions.\n",
    "Uncomment to input a item number and see an image of the data for that item , the model's prediction, and the actual value."
   ]
  },
  {
   "cell_type": "code",
   "execution_count": 18,
   "id": "90764989",
   "metadata": {
    "execution": {
     "iopub.execute_input": "2024-02-13T20:17:33.080628Z",
     "iopub.status.busy": "2024-02-13T20:17:33.079347Z",
     "iopub.status.idle": "2024-02-13T20:17:33.084720Z",
     "shell.execute_reply": "2024-02-13T20:17:33.083730Z"
    },
    "jupyter": {
     "source_hidden": true
    },
    "papermill": {
     "duration": 0.124496,
     "end_time": "2024-02-13T20:17:33.087007",
     "exception": false,
     "start_time": "2024-02-13T20:17:32.962511",
     "status": "completed"
    },
    "tags": []
   },
   "outputs": [],
   "source": [
    "# def show_image(img):\n",
    "#   plt.figure()\n",
    "#   plt.imshow(img, cmap=plt.cm.binary)\n",
    "#   plt.grid(False)\n",
    "#   plt.show()\n",
    "  \n",
    "# def get_number():\n",
    "#   while True:\n",
    "#     num = input(\"Pick a number: \")\n",
    "#     if num.isdigit():\n",
    "#       num = int(num)\n",
    "#       if 0 <= num < 4200:\n",
    "#         return int(num)\n",
    "#       else:\n",
    "#         print(\"Try again...\")\n",
    "#     else:\n",
    "#         print(\"Try again...\")\n",
    "\n",
    "# num = get_number()\n",
    "# show_image(X_val[num])\n",
    "# print('Predicated value: ', np.argmax(predictions[num]))\n",
    "# print('Actual number: ', list(y_val[num]).index(1))"
   ]
  },
  {
   "cell_type": "markdown",
   "id": "97dd00b7",
   "metadata": {
    "papermill": {
     "duration": 0.105752,
     "end_time": "2024-02-13T20:17:33.300405",
     "exception": false,
     "start_time": "2024-02-13T20:17:33.194653",
     "status": "completed"
    },
    "tags": []
   },
   "source": [
    "# A sample output of the previous script:"
   ]
  },
  {
   "attachments": {
    "14370fb3-0154-4a77-a5ff-d60a2ac156cb.png": {
     "image/png": "[encoded data removed]"
    }
   },
   "cell_type": "markdown",
   "id": "f5e550ec",
   "metadata": {
    "papermill": {
     "duration": 0.104402,
     "end_time": "2024-02-13T20:17:33.508564",
     "exception": false,
     "start_time": "2024-02-13T20:17:33.404162",
     "status": "completed"
    },
    "tags": []
   },
   "source": [
    "![Screenshot 2024-02-11 131832.png](attachment:14370fb3-0154-4a77-a5ff-d60a2ac156cb.png)"
   ]
  },
  {
   "cell_type": "code",
   "execution_count": 19,
   "id": "2975f2a8",
   "metadata": {
    "execution": {
     "iopub.execute_input": "2024-02-13T20:17:33.724563Z",
     "iopub.status.busy": "2024-02-13T20:17:33.724098Z",
     "iopub.status.idle": "2024-02-13T20:17:36.139136Z",
     "shell.execute_reply": "2024-02-13T20:17:36.138080Z"
    },
    "papermill": {
     "duration": 2.525336,
     "end_time": "2024-02-13T20:17:36.141382",
     "exception": false,
     "start_time": "2024-02-13T20:17:33.616046",
     "status": "completed"
    },
    "tags": []
   },
   "outputs": [
    {
     "name": "stdout",
     "output_type": "stream",
     "text": [
      "875/875 [==============================] - 2s 2ms/step\n"
     ]
    },
    {
     "data": {
      "text/plain": [
       "(28000, 28, 28, 1)"
      ]
     },
     "execution_count": 19,
     "metadata": {},
     "output_type": "execute_result"
    }
   ],
   "source": [
    "predictions = model.predict(X_test)\n",
    "X_test.shape"
   ]
  },
  {
   "cell_type": "code",
   "execution_count": 20,
   "id": "b915bf73",
   "metadata": {
    "execution": {
     "iopub.execute_input": "2024-02-13T20:17:36.365185Z",
     "iopub.status.busy": "2024-02-13T20:17:36.364361Z",
     "iopub.status.idle": "2024-02-13T20:17:36.370710Z",
     "shell.execute_reply": "2024-02-13T20:17:36.369851Z"
    },
    "papermill": {
     "duration": 0.117741,
     "end_time": "2024-02-13T20:17:36.372854",
     "exception": false,
     "start_time": "2024-02-13T20:17:36.255113",
     "status": "completed"
    },
    "tags": []
   },
   "outputs": [],
   "source": [
    "predictions = np.argmax(predictions, axis = 1)\n",
    "predictions = pd.Series(predictions,name = \"Label\")"
   ]
  },
  {
   "cell_type": "code",
   "execution_count": 21,
   "id": "59515e9f",
   "metadata": {
    "execution": {
     "iopub.execute_input": "2024-02-13T20:17:36.600348Z",
     "iopub.status.busy": "2024-02-13T20:17:36.599630Z",
     "iopub.status.idle": "2024-02-13T20:17:36.640817Z",
     "shell.execute_reply": "2024-02-13T20:17:36.639941Z"
    },
    "papermill": {
     "duration": 0.153211,
     "end_time": "2024-02-13T20:17:36.643017",
     "exception": false,
     "start_time": "2024-02-13T20:17:36.489806",
     "status": "completed"
    },
    "tags": []
   },
   "outputs": [],
   "source": [
    "submission = pd.concat([pd.Series(range(1,28001), name = \"ImageId\"),predictions],axis = 1)\n",
    "submission.to_csv(\"DR.csv\", index = False)"
   ]
  }
 ],
 "metadata": {
  "kaggle": {
   "accelerator": "gpu",
   "dataSources": [
    {
     "databundleVersionId": 861823,
     "sourceId": 3004,
     "sourceType": "competition"
    }
   ],
   "dockerImageVersionId": 30646,
   "isGpuEnabled": true,
   "isInternetEnabled": true,
   "language": "python",
   "sourceType": "notebook"
  },
  "kernelspec": {
   "display_name": "Python 3 (ipykernel)",
   "language": "python",
   "name": "python3"
  },
  "language_info": {
   "codemirror_mode": {
    "name": "ipython",
    "version": 3
   },
   "file_extension": ".py",
   "mimetype": "text/x-python",
   "name": "python",
   "nbconvert_exporter": "python",
   "pygments_lexer": "ipython3",
   "version": "3.10.0"
  },
  "papermill": {
   "default_parameters": {},
   "duration": 100.352219,
   "end_time": "2024-02-13T20:17:40.036492",
   "environment_variables": {},
   "exception": null,
   "input_path": "__notebook__.ipynb",
   "output_path": "__notebook__.ipynb",
   "parameters": {},
   "start_time": "2024-02-13T20:15:59.684273",
   "version": "2.5.0"
  }
 },
 "nbformat": 4,
 "nbformat_minor": 5
}
